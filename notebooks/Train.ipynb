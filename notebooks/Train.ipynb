{
 "cells": [
  {
   "cell_type": "markdown",
   "metadata": {},
   "source": [
    "# Base\n"
   ]
  },
  {
   "cell_type": "markdown",
   "metadata": {},
   "source": [
    "## Setup\n",
    "\n",
    "* Reload modules automatically\n",
    "* Load environvent variables from .env\n",
    "* Imports\n",
    "* Load configs\n",
    "* Set up logging"
   ]
  },
  {
   "cell_type": "code",
   "execution_count": 1,
   "metadata": {},
   "outputs": [],
   "source": [
    "%load_ext autoreload\n",
    "%load_ext dotenv"
   ]
  },
  {
   "cell_type": "code",
   "execution_count": 2,
   "metadata": {},
   "outputs": [],
   "source": [
    "%autoreload"
   ]
  },
  {
   "cell_type": "code",
   "execution_count": 3,
   "metadata": {},
   "outputs": [],
   "source": [
    "%dotenv ../.env"
   ]
  },
  {
   "cell_type": "code",
   "execution_count": 4,
   "metadata": {},
   "outputs": [],
   "source": [
    "import logging\n",
    "\n",
    "import mlflow\n",
    "from omegaconf import OmegaConf\n",
    "from sklearn.datasets import load_wine\n",
    "from sklearn.ensemble import RandomForestClassifier\n",
    "from sklearn.model_selection import train_test_split\n",
    "from sklearn.pipeline import make_pipeline\n",
    "from sklearn.preprocessing import StandardScaler\n",
    "\n",
    "from utils.tracking import set_experiment"
   ]
  },
  {
   "cell_type": "code",
   "execution_count": 5,
   "metadata": {},
   "outputs": [],
   "source": [
    "cfg = OmegaConf.load(\"../config.yaml\")"
   ]
  },
  {
   "cell_type": "code",
   "execution_count": 6,
   "metadata": {},
   "outputs": [],
   "source": [
    "logger = logging.getLogger(__name__)\n",
    "logging.basicConfig(\n",
    "    stream=sys.stdout,\n",
    "    format=cfg.logging.format,\n",
    "    datefmt=cfg.logging.date_format,\n",
    "    level=cfg.logging.level\n",
    ")"
   ]
  },
  {
   "cell_type": "markdown",
   "metadata": {},
   "source": [
    "## Load data"
   ]
  },
  {
   "cell_type": "code",
   "execution_count": 7,
   "metadata": {},
   "outputs": [],
   "source": [
    "input_data = load_wine(as_frame=True)"
   ]
  },
  {
   "cell_type": "markdown",
   "metadata": {},
   "source": [
    "## Prepare data"
   ]
  },
  {
   "cell_type": "code",
   "execution_count": 8,
   "metadata": {},
   "outputs": [],
   "source": [
    "X = input_data.frame.copy()\n",
    "y = X.pop(cfg.train.target_name)"
   ]
  },
  {
   "cell_type": "code",
   "execution_count": 9,
   "metadata": {},
   "outputs": [],
   "source": [
    "X_train, X_test, y_train, y_test = train_test_split(\n",
    "    X,\n",
    "    y,\n",
    "    test_size=cfg.train.test_size,\n",
    "    random_state=cfg.train.random_state,\n",
    "    stratify=y\n",
    ")"
   ]
  },
  {
   "cell_type": "markdown",
   "metadata": {},
   "source": [
    "## Define model"
   ]
  },
  {
   "cell_type": "code",
   "execution_count": 10,
   "metadata": {},
   "outputs": [],
   "source": [
    "pipeline = make_pipeline(\n",
    "    StandardScaler(),\n",
    "    RandomForestClassifier(random_state=cfg.train.random_state, n_jobs=-1)\n",
    ")"
   ]
  },
  {
   "cell_type": "markdown",
   "metadata": {},
   "source": [
    "## Set up experiment tracking"
   ]
  },
  {
   "cell_type": "code",
   "execution_count": 11,
   "metadata": {},
   "outputs": [
    {
     "name": "stderr",
     "output_type": "stream",
     "text": [
      "2023/09/20 11:30:48 INFO mlflow.tracking.fluent: Autologging successfully enabled for sklearn.\n"
     ]
    }
   ],
   "source": [
    "set_experiment(cfg.train.experiment_name)\n",
    "\n",
    "mlflow.autolog()"
   ]
  },
  {
   "cell_type": "markdown",
   "metadata": {},
   "source": [
    "## Train & evaluate"
   ]
  },
  {
   "cell_type": "code",
   "execution_count": 12,
   "metadata": {},
   "outputs": [
    {
     "name": "stdout",
     "output_type": "stream",
     "text": [
      "[2023-09-20 11:30:48] Running experiment with id: af84304f2062430facb82ccc76db915e\n",
      "[2023-09-20 11:30:48] Fitting model.\n"
     ]
    },
    {
     "name": "stderr",
     "output_type": "stream",
     "text": [
      "2023/09/20 11:30:48 WARNING mlflow.utils.autologging_utils: MLflow autologging encountered a warning: \"/home/julia/.cache/pypoetry/virtualenvs/wine-quality-classification-BQZk_giL-py3.10/lib/python3.10/site-packages/mlflow/data/digest_utils.py:26: FutureWarning: DataFrame.applymap has been deprecated. Use DataFrame.map instead.\"\n",
      "2023/09/20 11:30:53 WARNING mlflow.utils.autologging_utils: MLflow autologging encountered a warning: \"/home/julia/.cache/pypoetry/virtualenvs/wine-quality-classification-BQZk_giL-py3.10/lib/python3.10/site-packages/_distutils_hack/__init__.py:33: UserWarning: Setuptools is replacing distutils.\"\n"
     ]
    },
    {
     "name": "stdout",
     "output_type": "stream",
     "text": [
      "[2023-09-20 11:30:53] Evaluating trained model.\n"
     ]
    },
    {
     "name": "stderr",
     "output_type": "stream",
     "text": [
      "/home/julia/.cache/pypoetry/virtualenvs/wine-quality-classification-BQZk_giL-py3.10/lib/python3.10/site-packages/mlflow/data/digest_utils.py:26: FutureWarning: DataFrame.applymap has been deprecated. Use DataFrame.map instead.\n",
      "  string_columns = trimmed_df.columns[(df.applymap(type) == str).all(0)]\n",
      "/home/julia/.cache/pypoetry/virtualenvs/wine-quality-classification-BQZk_giL-py3.10/lib/python3.10/site-packages/mlflow/models/evaluation/base.py:363: FutureWarning: DataFrame.applymap has been deprecated. Use DataFrame.map instead.\n",
      "  data = data.applymap(_hash_array_like_element_as_bytes)\n",
      "/home/julia/.cache/pypoetry/virtualenvs/wine-quality-classification-BQZk_giL-py3.10/lib/python3.10/site-packages/mlflow/models/evaluation/base.py:363: FutureWarning: DataFrame.applymap has been deprecated. Use DataFrame.map instead.\n",
      "  data = data.applymap(_hash_array_like_element_as_bytes)\n",
      "/home/julia/.cache/pypoetry/virtualenvs/wine-quality-classification-BQZk_giL-py3.10/lib/python3.10/site-packages/mlflow/data/pandas_dataset.py:116: UserWarning: Hint: Inferred schema contains integer column(s). Integer columns in Python cannot represent missing values. If your input data contains missing values at inference time, it will be encoded as floats and will cause a schema enforcement error. The best way to avoid this problem is to infer the model schema based on a realistic data sample (training dataset) that includes missing values. Alternatively, you can declare integer columns as doubles (float64) whenever these columns may have missing values. See `Handling Integers With Missing Values <https://www.mlflow.org/docs/latest/models.html#handling-integers-with-missing-values>`_ for more details.\n",
      "  return _infer_schema(self._df)\n",
      "2023/09/20 11:30:53 INFO mlflow.models.evaluation.base: Evaluating the model with the default evaluator.\n",
      "2023/09/20 11:30:53 INFO mlflow.tracking.fluent: Autologging successfully enabled for xgboost.\n",
      "2023/09/20 11:30:54 INFO mlflow.models.evaluation.default_evaluator: The evaluation dataset is inferred as multiclass dataset, number of classes is inferred as 3\n",
      "Using `tqdm.autonotebook.tqdm` in notebook mode. Use `tqdm.tqdm` instead to force console mode (e.g. in jupyter console)\n",
      "2023/09/20 11:30:56 INFO mlflow.models.evaluation.default_evaluator: Shap explainer Permutation is used.\n",
      "Permutation explainer: 37it [01:28,  2.60s/it]                        \n",
      "Unable to serialize underlying model using MLflow, will use SHAP serialization\n",
      "No data for colormapping provided via 'c'. Parameters 'vmin', 'vmax' will be ignored\n",
      "No data for colormapping provided via 'c'. Parameters 'vmin', 'vmax' will be ignored\n"
     ]
    },
    {
     "name": "stdout",
     "output_type": "stream",
     "text": [
      "[2023-09-20 11:32:30] Finished experiment run <RunInfo: artifact_uri='file:///home/julia/Code/mlruns/873066992355515183/af84304f2062430facb82ccc76db915e/artifacts', end_time=None, experiment_id='873066992355515183', lifecycle_stage='active', run_id='af84304f2062430facb82ccc76db915e', run_name='angry-worm-956', run_uuid='af84304f2062430facb82ccc76db915e', start_time=1695202248422, status='RUNNING', user_id='julia'>\n"
     ]
    }
   ],
   "source": [
    "with mlflow.start_run() as run:\n",
    "    run_info = run.info\n",
    "    logger.info(\"Running experiment with id: %s\", run_info.run_id)\n",
    "\n",
    "    logger.info(\"Fitting model.\")\n",
    "    pipeline.fit(X_train, y_train)\n",
    "\n",
    "    logger.info(\"Evaluating trained model.\")\n",
    "    model_path = mlflow.get_artifact_uri(artifact_path=\"model\")\n",
    "    test_data = X_test.copy()\n",
    "    test_data[\"target\"] = y_test\n",
    "    mlflow.evaluate(\n",
    "        model=model_path,\n",
    "        data=test_data,\n",
    "        targets=\"target\",\n",
    "        model_type=cfg.train.model_type\n",
    "    )\n",
    "    logger.info(\"Finished experiment run %s\", run_info)"
   ]
  }
 ],
 "metadata": {
  "kernelspec": {
   "display_name": "Python 3 (ipykernel)",
   "language": "python",
   "name": "python3"
  },
  "language_info": {
   "codemirror_mode": {
    "name": "ipython",
    "version": 3
   },
   "file_extension": ".py",
   "mimetype": "text/x-python",
   "name": "python",
   "nbconvert_exporter": "python",
   "pygments_lexer": "ipython3",
   "version": "3.10.12"
  }
 },
 "nbformat": 4,
 "nbformat_minor": 4
}
